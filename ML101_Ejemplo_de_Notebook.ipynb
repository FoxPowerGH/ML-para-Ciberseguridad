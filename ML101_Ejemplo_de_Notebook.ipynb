{
  "cells": [
    {
      "cell_type": "markdown",
      "metadata": {
        "id": "cn24OVbxFTtG"
      },
      "source": [
        "[![Abrir en Colab](https://colab.research.google.com/assets/colab-badge.svg)](https://colab.research.google.com/github/FoxPowerGH/ML-para-Ciberseguridad/blob/main/ML101_Ejemplo_de_Notebook.ipynb)"
      ]
    },
    {
      "cell_type": "markdown",
      "metadata": {
        "id": "oJYZb-OdlISR"
      },
      "source": [
        "# **¿Qué es Google Colab?**\n",
        "\n",
        "Google Colaboratory, o simplemente Colab, es un servicio gratuito basado en la nube que proporciona Google. En esencia, permite a los usuarios escribir y ejecutar código Python a través de un navegador web.\n",
        "\n",
        "Colab utiliza cuadernos Jupyter, que son documentos interactivos que pueden contener código ejecutable, texto enriquecido, visualizaciones y más. Esto lo hace ideal para la ciencia de datos, el aprendizaje automático y la educación.\n",
        "\n",
        "Esta herramienta proporciona acceso gratuito a unidades de procesamiento gráfico (GPU) y unidades de procesamiento tensorial (TPU), lo que es muy valioso para tareas de aprendizaje automático que requieren mucha potencia de cálculo.\n",
        "\n",
        "🔗 [Más información aquí](https://jorgerodriguez.io/google-colab-tu-laboratorio-en-la-nube/)"
      ]
    },
    {
      "cell_type": "markdown",
      "metadata": {
        "id": "eFzYpH8fFvqP"
      },
      "source": [
        "## **Uso de Markdown**\n",
        "\n",
        "Ahora, ¿qué sucede con estas áreas con texto escrito, como esta? Bueno, en realidad hay un tipo diferente de celda llamada celda \"Markdown\" para agregar explicaciones como esta. Haga clic en el botón + para agregar una celda. Luego, en la barra de herramientas, haga clic donde dice \"Código\" y cámbielo a \"Markdown\".\n",
        "\n",
        "Agregue algunos comentarios usando el formato Markdown, tal vez copiando y pegando desde aquí:\n",
        "\n",
        "- 1:#   Encabezados  - H1\n",
        "- 2:##  Título       - H2\n",
        "- 3:### Subsubtítulo - H3\n",
        "\n"
      ]
    },
    {
      "cell_type": "markdown",
      "metadata": {
        "id": "ncF7aTrDZTqV"
      },
      "source": [
        "## **El signo de exclamación**\n",
        "Cuando colocas un signo de exclamación al principio de una línea en una celda de Colab, le estás indicando a Colab que interprete el resto de la línea como un comando de shell, en lugar de código Python.\n",
        "\n",
        "Esto te permite interactuar con el sistema operativo subyacente, instalar paquetes, ejecutar scripts y realizar otras tareas que normalmente harías en una terminal.\n",
        "\n",
        "Uno de los usos más frecuentes es instalar bibliotecas de Python utilizando pip. Por ejemplo:\n",
        "\n",
        "- !pip install [some_package]\n",
        "\n",
        "Puedes ejecutar comandos de Linux como ls (listar archivos), pwd (mostrar el directorio actual), mkdir (crear directorios) y muchos otros.\n",
        "\n",
        "- !ls\n",
        "- !pwd\n",
        "- !mkdir mi_directorio\n"
      ]
    },
    {
      "cell_type": "code",
      "execution_count": null,
      "metadata": {
        "colab": {
          "base_uri": "https://localhost:8080/"
        },
        "id": "eFx2FI75aeAh",
        "outputId": "922f8a14-29ae-4855-da48-85541a1e3f0b"
      },
      "outputs": [
        {
          "name": "stdout",
          "output_type": "stream",
          "text": [
            "sample_data\n"
          ]
        }
      ],
      "source": [
        "# lista el directorio actual\n",
        "\n",
        "!ls"
      ]
    },
    {
      "cell_type": "code",
      "execution_count": null,
      "metadata": {
        "colab": {
          "base_uri": "https://localhost:8080/"
        },
        "id": "EZ2lhitxagHH",
        "outputId": "c37837e2-9299-43df-9222-3f672946905f"
      },
      "outputs": [
        {
          "name": "stdout",
          "output_type": "stream",
          "text": [
            "/content\n"
          ]
        }
      ],
      "source": [
        "# Directorio actual\n",
        "!pwd"
      ]
    },
    {
      "cell_type": "markdown",
      "metadata": {
        "id": "L32DL-wfDRhH"
      },
      "source": [
        "## **Guía de Inicio Rápido**"
      ]
    },
    {
      "cell_type": "code",
      "execution_count": null,
      "metadata": {
        "colab": {
          "base_uri": "https://localhost:8080/"
        },
        "id": "iSE5gEWnDT7S",
        "outputId": "8bbb3e43-eca3-413b-df12-9306d75c6482"
      },
      "outputs": [
        {
          "data": {
            "text/plain": [
              "4"
            ]
          },
          "execution_count": 1,
          "metadata": {},
          "output_type": "execute_result"
        }
      ],
      "source": [
        "# Haga clic en cualquier lugar de esta celda y presione Shift + Intro\n",
        "\n",
        "2 + 2"
      ]
    },
    {
      "cell_type": "code",
      "execution_count": null,
      "metadata": {
        "id": "7JxMJdvWEEk_"
      },
      "outputs": [],
      "source": [
        "# Definir el valor de una variable\n",
        "\n",
        "fruta_favorita = \"manzanas\""
      ]
    },
    {
      "cell_type": "code",
      "execution_count": null,
      "metadata": {
        "colab": {
          "base_uri": "https://localhost:8080/",
          "height": 35
        },
        "id": "b47eCJj1EK67",
        "outputId": "39b9292f-c962-4b6e-bae5-422d289a2d1f"
      },
      "outputs": [
        {
          "data": {
            "application/vnd.google.colaboratory.intrinsic+json": {
              "type": "string"
            },
            "text/plain": [
              "'manzanas'"
            ]
          },
          "execution_count": 3,
          "metadata": {},
          "output_type": "execute_result"
        }
      ],
      "source": [
        "# El resultado de la última declaración se muestra después de ejecutarla.\n",
        "\n",
        "fruta_favorita"
      ]
    },
    {
      "cell_type": "code",
      "execution_count": null,
      "metadata": {
        "colab": {
          "base_uri": "https://localhost:8080/"
        },
        "id": "JN2wT-CyETxJ",
        "outputId": "80501252-1c53-4439-cfb0-bdd008231865"
      },
      "outputs": [
        {
          "name": "stdout",
          "output_type": "stream",
          "text": [
            "Mi fruta favorita es: manzanas\n"
          ]
        }
      ],
      "source": [
        "# Usamos la variable\n",
        "\n",
        "print(f\"Mi fruta favorita es: {fruta_favorita}\")"
      ]
    },
    {
      "cell_type": "markdown",
      "metadata": {
        "id": "uT2iHZMWCuM-"
      },
      "source": [
        "## **Ejemplo**"
      ]
    },
    {
      "cell_type": "code",
      "execution_count": null,
      "metadata": {
        "colab": {
          "base_uri": "https://localhost:8080/"
        },
        "id": "veq3OdMVlR_E",
        "outputId": "3033cafb-a506-44e8-d151-e7559bee6a1b"
      },
      "outputs": [
        {
          "name": "stdout",
          "output_type": "stream",
          "text": [
            "Hola Profesor Snape\n"
          ]
        }
      ],
      "source": [
        "print('Hola Profesor Snape')"
      ]
    },
    {
      "cell_type": "markdown",
      "metadata": {
        "id": "X7zvjk0blXWx"
      },
      "source": [
        "Ahora vamos a hacer algo más, complejo, vamos a permitir que el usuario, introduzca una serie de datos, en concreto el nombre y la fecha de nacimiento. Con esos datos, la celda será capaz de calcular su edad actual en años.\n",
        "\n",
        "Por favor, introduce los datos que te solicita. Después de introducir un dato, únicamente tienes que darle al botón de \"Enter\" de tu teclado."
      ]
    },
    {
      "cell_type": "code",
      "execution_count": null,
      "metadata": {
        "colab": {
          "base_uri": "https://localhost:8080/"
        },
        "id": "2wFglUlildWu",
        "outputId": "b897e7f9-ec3b-4f3f-b222-7b0a789ec7a8"
      },
      "outputs": [
        {
          "name": "stdout",
          "output_type": "stream",
          "text": [
            "Introduce tu nombre :Profesor Snape\n",
            "Profesor Snape\n",
            "Introduce tu fecha de nacimiento (dd-mm-aaaa) : 18-03-1976\n",
            "18-03-1976\n",
            "Nombre Profesor Snape\n",
            "Tú edad es 49 años\n"
          ]
        }
      ],
      "source": [
        "\n",
        "import datetime\n",
        "from datetime import datetime, date\n",
        "from dateutil.relativedelta import relativedelta\n",
        "\n",
        "\n",
        "nombre = input (\"Introduce tu nombre :\")\n",
        "print(nombre)\n",
        "\n",
        "fecha_nac = input(\"Introduce tu fecha de nacimiento (dd-mm-aaaa) : \")\n",
        "print(fecha_nac)\n",
        "\n",
        "start_date = datetime.strptime(fecha_nac, '%d-%m-%Y')\n",
        "end_date = date.today()\n",
        "\n",
        "difference_in_years = relativedelta(end_date, start_date).years\n",
        "\n",
        "\n",
        "# Printing the output\n",
        "print (\"Nombre\", nombre)\n",
        "print (\"Tú edad es {} años:\".format(difference_in_years))"
      ]
    }
  ],
  "metadata": {
    "colab": {
      "provenance": []
    },
    "kernelspec": {
      "display_name": "Python 3",
      "name": "python3"
    },
    "language_info": {
      "name": "python"
    }
  },
  "nbformat": 4,
  "nbformat_minor": 0
}
